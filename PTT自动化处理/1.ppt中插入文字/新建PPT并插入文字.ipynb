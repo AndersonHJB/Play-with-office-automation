{
 "cells": [
  {
   "cell_type": "code",
   "execution_count": 1,
   "metadata": {
    "collapsed": true
   },
   "outputs": [],
   "source": [
    "from pptx import Presentation\n",
    "\n",
    "prs = Presentation()\n",
    "\n",
    "title_slide_layout = prs.slide_layouts[0]\n",
    "slide = prs.slides.add_slide(title_slide_layout)\n",
    "\n",
    "title = slide.shapes.title\n",
    "subtitle = slide.placeholders[1]\n",
    "\n",
    "title.text = \"PPT自动化办公\"\n",
    "subtitle.text = \"Python自动化生成PPT文件\"\n",
    "\n",
    "prs.save('first_ppt.pptx')"
   ]
  },
  {
   "cell_type": "code",
   "execution_count": 2,
   "metadata": {
    "collapsed": true
   },
   "outputs": [],
   "source": [
    "from pptx import Presentation\n",
    " \n",
    "\n",
    "prs = Presentation()\n",
    "layouts = prs.slide_layouts\n",
    "\n",
    "for layout in layouts:\n",
    "    slide = prs.slides.add_slide(layout)\n",
    "    \n",
    "    placeholders = slide.placeholders\n",
    "    num = 1\n",
    "    for placeholder in placeholders:\n",
    "        text = \"这是当前页面的第{}个占位符\".format(num)\n",
    "        placeholder.text = text\n",
    "        num += 1\n",
    "\n",
    "\n",
    "prs.save(\"second_ppt.pptx\")\n"
   ]
  },
  {
   "cell_type": "code",
   "execution_count": null,
   "metadata": {
    "collapsed": true
   },
   "outputs": [],
   "source": []
  }
 ],
 "metadata": {
  "kernelspec": {
   "display_name": "Python 3",
   "language": "python",
   "name": "python3"
  },
  "language_info": {
   "codemirror_mode": {
    "name": "ipython",
    "version": 3
   },
   "file_extension": ".py",
   "mimetype": "text/x-python",
   "name": "python",
   "nbconvert_exporter": "python",
   "pygments_lexer": "ipython3",
   "version": "3.6.1"
  }
 },
 "nbformat": 4,
 "nbformat_minor": 2
}
