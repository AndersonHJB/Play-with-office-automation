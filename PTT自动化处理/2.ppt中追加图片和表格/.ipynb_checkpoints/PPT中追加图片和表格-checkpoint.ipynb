{
 "cells": [
  {
   "cell_type": "code",
   "execution_count": 1,
   "metadata": {
    "collapsed": true
   },
   "outputs": [],
   "source": [
    "from pptx import Presentation\n",
    "from pptx.util import Inches\n",
    "\n",
    "prs = Presentation('third_ppt.pptx')\n",
    "\n",
    "slides = prs.slides\n",
    "\n",
    "seven_layout = prs.slide_layouts[6]\n",
    "slide1 = prs.slides.add_slide(seven_layout)\n",
    "\n",
    "left = Inches(1)\n",
    "top = Inches(2)\n",
    "width = Inches(6)\n",
    "height = Inches(2)\n",
    "\n",
    "imgbox = slide1.shapes.add_picture('python3.png',left,top,width,height)\n",
    "\n",
    "\n",
    "seven_layout = prs.slide_layouts[6]\n",
    "slide2 = prs.slides.add_slide(seven_layout)\n",
    "\n",
    "slide2.shapes.add_picture('python3.png',Inches(0),Inches(0))\n",
    "\n",
    "\n",
    "prs.save('third_ppt_png.pptx')"
   ]
  },
  {
   "cell_type": "code",
   "execution_count": 2,
   "metadata": {
    "collapsed": true
   },
   "outputs": [],
   "source": [
    "from pptx import Presentation\n",
    "from pptx.util import Inches\n",
    "\n",
    "prs = Presentation('third_ppt_png.pptx')\n",
    "\n",
    "slides = prs.slides\n",
    "\n",
    "seven_layout = prs.slide_layouts[6]\n",
    "slide1 = prs.slides.add_slide(seven_layout)\n",
    "\n",
    "left = Inches(1)\n",
    "top = Inches(2)\n",
    "width = Inches(2)\n",
    "height = Inches(2)\n",
    "row = 3\n",
    "col = 2\n",
    "\n",
    "tablebox = slide1.shapes.add_table(row,col,left,top,width,height)\n",
    "table = tablebox.table\n",
    "for r in range(0,row):\n",
    "    for c in range(0,col):\n",
    "        table.cell(r,c).text = \"{}行{}列\".format(r+1,c+1)\n",
    "\n",
    "        \n",
    "prs.save('third_ppt_png_table.pptx')"
   ]
  },
  {
   "cell_type": "code",
   "execution_count": null,
   "metadata": {
    "collapsed": true
   },
   "outputs": [],
   "source": []
  }
 ],
 "metadata": {
  "kernelspec": {
   "display_name": "Python 3",
   "language": "python",
   "name": "python3"
  },
  "language_info": {
   "codemirror_mode": {
    "name": "ipython",
    "version": 3
   },
   "file_extension": ".py",
   "mimetype": "text/x-python",
   "name": "python",
   "nbconvert_exporter": "python",
   "pygments_lexer": "ipython3",
   "version": "3.6.1"
  }
 },
 "nbformat": 4,
 "nbformat_minor": 2
}
