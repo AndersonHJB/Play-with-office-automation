{
 "cells": [
  {
   "cell_type": "code",
   "execution_count": 1,
   "metadata": {
    "collapsed": true
   },
   "outputs": [],
   "source": [
    "import zmail"
   ]
  },
  {
   "cell_type": "code",
   "execution_count": 2,
   "metadata": {
    "collapsed": true
   },
   "outputs": [],
   "source": [
    "server = zmail.server('givemefive94@qq.com','******************')"
   ]
  },
  {
   "cell_type": "code",
   "execution_count": 3,
   "metadata": {},
   "outputs": [],
   "source": [
    "mail = server.get_latest()"
   ]
  },
  {
   "cell_type": "code",
   "execution_count": 4,
   "metadata": {},
   "outputs": [
    {
     "name": "stdout",
     "output_type": "stream",
     "text": [
      "-------------------------\n",
      "Subject  测试邮件的标题【有HTML】\n",
      "Id  24\n",
      "From  \"givemefive94@qq.com\" <givemefive94@qq.com>\n",
      "To  givemefive94@qq.com\n",
      "Date  2020-01-03 06:56:21+00:00\n",
      "Content_text  ['测试邮件的内容部分,看下方，看下方，看下方\\n<h1>Spbeen</h1>\\n点击<a href=\"http://www.spbeen.com\">链接</a>，前往Spbeen网站']\n",
      "Content_html  ['<div>测试邮件的内容部分,看下方，看下方，看下方</div><div><h1>Spbeen</h1></div><div>点击<a href=\"http://www.spbeen.com\">链接</a>，前往Spbeen网站</div>']\n",
      "Attachments  \n"
     ]
    }
   ],
   "source": [
    "zmail.show(mail)"
   ]
  },
  {
   "cell_type": "code",
   "execution_count": 5,
   "metadata": {},
   "outputs": [
    {
     "data": {
      "text/plain": [
       "{'content_text': ['测试邮件的内容部分,看下方，看下方，看下方\\n<h1>Spbeen</h1>\\n点击<a href=\"http://www.spbeen.com\">链接</a>，前往Spbeen网站'], 'content_html': ['<div>测试邮件的内容部分,看下方，看下方，看下方</div><div><h1>Spbeen</h1></div><div>点击<a href=\"http://www.spbeen.com\">链接</a>，前往Spbeen网站</div>'], 'attachments': [], 'headers': {'X-QQ-mid': 'esmtp5t1578034582tp5nmxfk5', 'Received': 'from [192.168.1.100] (unknown [117.164.157.116])by esmtp4.qq.com (ESMTP) with SMTP id 0for <givemefive94@qq.com>; Fri, 03 Jan 2020 14:56:22 +0800 (CST)', 'X-QQ-SSF': 'A001000000000001G1100000000000Z', 'X-QQ-FEAT': 'W0uu0s23DE2ioWZBNQXMeGnH7gTTYB5joSFdZx/bGtdL02h9Dah7vUGJhA5YHZ187aqHi3hPLpo4SpTDPFicba4YGyFSB5Uk/fFIzUtLRcY20J6fjGfkiL+hEYUTqo/xgJoI9dXPzKEPKOpa/Y7fKO/bCXMfC8FJ1r0WBvpK0KUUUrlUKmuKr+cm8vgZaxoWuGUqcYEqn5zQNGU5qN5Y2WHZR363rdT1TIGWlOxLy2Q4CxV508gKyCWPaxEMkmiZ7fpPt8K6YSwmT6Y1zX29R+hqPtWVyWivBk8sxXn9v/o=', 'Content-Type': 'multipart/mixed; boundary=\"===============3492308449627973310==\"', 'MIME-Version': '1.0', 'date': datetime.datetime(2020, 1, 3, 6, 56, 21, tzinfo=datetime.timezone.utc), 'Subject': '测试邮件的标题【有HTML】', 'From': '\"givemefive94@qq.com\" <givemefive94@qq.com>', 'To': 'givemefive94@qq.com'}, 'raw_headers': [(b'X-QQ-mid', b'esmtp5t1578034582tp5nmxfk5'), (b'Received', b'from [192.168.1.100] (unknown [117.164.157.116])by esmtp4.qq.com (ESMTP) with SMTP id 0for <givemefive94@qq.com>; Fri, 03 Jan 2020 14:56:22 +0800 (CST)'), (b'X-QQ-SSF', b'A001000000000001G1100000000000Z'), (b'X-QQ-FEAT', b'W0uu0s23DE2ioWZBNQXMeGnH7gTTYB5joSFdZx/bGtdL02h9Dah7vUGJhA5YHZ187aqHi3hPLpo4SpTDPFicba4YGyFSB5Uk/fFIzUtLRcY20J6fjGfkiL+hEYUTqo/xgJoI9dXPzKEPKOpa/Y7fKO/bCXMfC8FJ1r0WBvpK0KUUUrlUKmuKr+cm8vgZaxoWuGUqcYEqn5zQNGU5qN5Y2WHZR363rdT1TIGWlOxLy2Q4CxV508gKyCWPaxEMkmiZ7fpPt8K6YSwmT6Y1zX29R+hqPtWVyWivBk8sxXn9v/o='), (b'Content-Type', b'multipart/mixed; boundary=\"===============3492308449627973310==\"'), (b'MIME-Version', b'1.0'), (b'Date', b'Fri, 03 Jan 2020 06:56:21 -0000'), (b'Subject', b'=?utf-8?b?5rWL6K+V6YKu5Lu255qE5qCH6aKY44CQ5pyJSFRNTOOAkQ==?='), (b'From', b'\"givemefive94@qq.com\" <givemefive94@qq.com>'), (b'To', b'givemefive94@qq.com')], 'charsets': ['utf-8', 'gbk'], 'subject': '测试邮件的标题【有HTML】', 'date': datetime.datetime(2020, 1, 3, 6, 56, 21, tzinfo=datetime.timezone.utc), 'from': '\"givemefive94@qq.com\" <givemefive94@qq.com>', 'to': 'givemefive94@qq.com', 'id': 24, 'raw': [b'X-QQ-mid: esmtp5t1578034582tp5nmxfk5', b'Received: from [192.168.1.100] (unknown [117.164.157.116])', b'\\tby esmtp4.qq.com (ESMTP) with SMTP id 0', b'\\tfor <givemefive94@qq.com>; Fri, 03 Jan 2020 14:56:22 +0800 (CST)', b'X-QQ-SSF: A001000000000001G1100000000000Z', b'X-QQ-FEAT: W0uu0s23DE2ioWZBNQXMeGnH7gTTYB5joSFdZx/bGtdL02h9Dah7vUGJhA5YH', b'\\tZ187aqHi3hPLpo4SpTDPFicba4YGyFSB5Uk/fFIzUtLRcY20J6fjGfkiL+hEYUTqo/xgJoI', b'\\t9dXPzKEPKOpa/Y7fKO/bCXMfC8FJ1r0WBvpK0KUUUrlUKmuKr+cm8vgZaxoWuGUqcYEqn5z', b'\\tQNGU5qN5Y2WHZR363rdT1TIGWlOxLy2Q4CxV508gKyCWPaxEMkmiZ7fpPt8K6YSwmT6Y1zX', b'\\t29R+hqPtWVyWivBk8sxXn9v/o=', b'Content-Type: multipart/mixed; boundary=\"===============3492308449627973310==\"', b'MIME-Version: 1.0', b'Date: Fri, 03 Jan 2020 06:56:21 -0000', b'Subject: =?utf-8?b?5rWL6K+V6YKu5Lu255qE5qCH6aKY44CQ5pyJSFRNTOOAkQ==?=', b'From: \"givemefive94@qq.com\" <givemefive94@qq.com>', b'To: givemefive94@qq.com', b'', b'--===============3492308449627973310==', b'Content-Type: multipart/alternative; boundary=\"===============1672512039113351390==\"', b'MIME-Version: 1.0', b'', b'--===============1672512039113351390==', b'Content-Type: text/plain; charset=\"utf-8\"', b'MIME-Version: 1.0', b'Content-Transfer-Encoding: base64', b'', b'5rWL6K+V6YKu5Lu255qE5YaF5a656YOo5YiGLOeci+S4i+aWue+8jOeci+S4i+aWue+8jOeci+S4', b'i+aWuQo8aDE+U3BiZWVuPC9oMT4K54K55Ye7PGEgaHJlZj0iaHR0cDovL3d3dy5zcGJlZW4uY29t', b'Ij7pk77mjqU8L2E+77yM5YmN5b6AU3BiZWVu572R56uZ', b'', b'--===============1672512039113351390==', b'Content-Type: multipart/related; boundary=\"===============0012927145642543155==\"', b'MIME-Version: 1.0', b'', b'--===============0012927145642543155==', b'Content-Type: text/html; charset=\"utf-8\"', b'MIME-Version: 1.0', b'Content-Transfer-Encoding: base64', b'', b'PGRpdj7mtYvor5Xpgq7ku7bnmoTlhoXlrrnpg6jliIYs55yL5LiL5pa577yM55yL5LiL5pa577yM', b'55yL5LiL5pa5PC9kaXY+PGRpdj48aDE+U3BiZWVuPC9oMT48L2Rpdj48ZGl2PueCueWHuzxhIGhy', b'ZWY9Imh0dHA6Ly93d3cuc3BiZWVuLmNvbSI+6ZO+5o6lPC9hPu+8jOWJjeW+gFNwYmVlbue9keer', b'mTwvZGl2Pg==', b'', b'--===============0012927145642543155==--', b'', b'--===============1672512039113351390==--', b'', b'--===============3492308449627973310==--']}"
      ]
     },
     "execution_count": 5,
     "metadata": {},
     "output_type": "execute_result"
    }
   ],
   "source": [
    "mail"
   ]
  },
  {
   "cell_type": "code",
   "execution_count": 6,
   "metadata": {},
   "outputs": [
    {
     "name": "stdout",
     "output_type": "stream",
     "text": [
      "测试邮件的标题【有HTML】\n",
      "\"givemefive94@qq.com\" <givemefive94@qq.com>\n",
      "2020-01-03 06:56:21+00:00\n"
     ]
    }
   ],
   "source": [
    "print(mail['subject'],mail['from'],mail['date'],sep='\\n')"
   ]
  },
  {
   "cell_type": "code",
   "execution_count": 7,
   "metadata": {},
   "outputs": [
    {
     "name": "stdout",
     "output_type": "stream",
     "text": [
      "content_text\n",
      "content_html\n",
      "attachments\n",
      "headers\n",
      "raw_headers\n",
      "charsets\n",
      "subject\n",
      "date\n",
      "from\n",
      "to\n",
      "id\n",
      "raw\n"
     ]
    }
   ],
   "source": [
    "tmail = server.get_mail(1)\n",
    "for m in tmail:\n",
    "    print(m)"
   ]
  },
  {
   "cell_type": "code",
   "execution_count": 8,
   "metadata": {},
   "outputs": [
    {
     "name": "stdout",
     "output_type": "stream",
     "text": [
      "19\n",
      "测试邮件的标题 \"givemefive94@qq.com\" <givemefive94@qq.com>\n",
      "测试邮件的标题 \"givemefive94@qq.com\" <givemefive94@qq.com>\n",
      "测试邮件的标题 \"givemefive94@qq.com\" <givemefive94@qq.com>\n",
      "测试邮件的标题 \"givemefive94@qq.com\" <givemefive94@qq.com>\n",
      "测试邮件的标题 \"givemefive94@qq.com\" <givemefive94@qq.com>\n",
      "测试邮件的标题 \"givemefive94@qq.com\" <givemefive94@qq.com>\n",
      "测试邮件的标题 \"givemefive94@qq.com\" <givemefive94@qq.com>\n",
      "测试邮件的标题 \"givemefive94@qq.com\" <givemefive94@qq.com>\n",
      "测试邮件的标题 \"givemefive94@qq.com\" <givemefive94@qq.com>\n",
      "测试邮件的标题 \"givemefive94@qq.com\" <givemefive94@qq.com>\n",
      "测试邮件的标题 \"givemefive94@qq.com\" <givemefive94@qq.com>\n",
      "测试邮件的标题 \"givemefive94@qq.com\" <givemefive94@qq.com>\n",
      "测试邮件的标题 \"givemefive94@qq.com\" <givemefive94@qq.com>\n",
      "测试邮件的标题 \"givemefive94@qq.com\" <givemefive94@qq.com>\n",
      "测试邮件的标题 \"givemefive94@qq.com\" <givemefive94@qq.com>\n",
      "测试邮件的标题 \"givemefive94@qq.com\" <givemefive94@qq.com>\n",
      "测试邮件的标题 \"givemefive94@qq.com\" <givemefive94@qq.com>\n",
      "测试邮件的标题【无HTML】 \"givemefive94@qq.com\" <givemefive94@qq.com>\n",
      "测试邮件的标题【有HTML】 \"givemefive94@qq.com\" <givemefive94@qq.com>\n"
     ]
    }
   ],
   "source": [
    "tmails = server.get_mails(subject='测试邮件的标题')\n",
    "print(len(tmails))\n",
    "for t in tmails:\n",
    "    print(t['subject'],t['from'])"
   ]
  },
  {
   "cell_type": "code",
   "execution_count": null,
   "metadata": {
    "collapsed": true
   },
   "outputs": [],
   "source": []
  }
 ],
 "metadata": {
  "kernelspec": {
   "display_name": "Python 3",
   "language": "python",
   "name": "python3"
  },
  "language_info": {
   "codemirror_mode": {
    "name": "ipython",
    "version": 3
   },
   "file_extension": ".py",
   "mimetype": "text/x-python",
   "name": "python",
   "nbconvert_exporter": "python",
   "pygments_lexer": "ipython3",
   "version": "3.6.1"
  }
 },
 "nbformat": 4,
 "nbformat_minor": 2
}
