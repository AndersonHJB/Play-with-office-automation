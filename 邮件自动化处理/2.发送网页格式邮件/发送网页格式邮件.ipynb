{
 "cells": [
  {
   "cell_type": "code",
   "execution_count": 1,
   "metadata": {
    "collapsed": true
   },
   "outputs": [],
   "source": [
    "import os\n",
    "qqsqm = os.environ[\"qqsqm\"]"
   ]
  },
  {
   "cell_type": "code",
   "execution_count": 2,
   "metadata": {
    "collapsed": true
   },
   "outputs": [],
   "source": [
    "import yagmail\n",
    "yag = yagmail.SMTP(user='givemefive94@qq.com', password=qqsqm, host='smtp.qq.com')"
   ]
  },
  {
   "cell_type": "code",
   "execution_count": 3,
   "metadata": {},
   "outputs": [
    {
     "data": {
      "text/plain": [
       "{}"
      ]
     },
     "execution_count": 3,
     "metadata": {},
     "output_type": "execute_result"
    }
   ],
   "source": [
    "subject = '测试邮件的标题【无HTML】'\n",
    "body = '测试邮件的内容部分,看下方，看下方，看下方'\n",
    "\n",
    "\n",
    "yag.send(to = 'givemefive94@qq.com',subject =subject,contents = body)"
   ]
  },
  {
   "cell_type": "code",
   "execution_count": 4,
   "metadata": {},
   "outputs": [
    {
     "data": {
      "text/plain": [
       "{}"
      ]
     },
     "execution_count": 4,
     "metadata": {},
     "output_type": "execute_result"
    }
   ],
   "source": [
    "subject = '测试邮件的标题【有HTML】'\n",
    "body = '测试邮件的内容部分,看下方，看下方，看下方'\n",
    "h1 = '<h1>Spbeen</h1>'\n",
    "a_link = '点击<a href=\"http://www.spbeen.com\">链接</a>，前往Spbeen网站'\n",
    "\n",
    "yag.send(to = 'givemefive94@qq.com',subject =subject,contents = [body,h1,a_link])"
   ]
  },
  {
   "cell_type": "code",
   "execution_count": null,
   "metadata": {
    "collapsed": true
   },
   "outputs": [],
   "source": []
  }
 ],
 "metadata": {
  "kernelspec": {
   "display_name": "Python 3",
   "language": "python",
   "name": "python3"
  },
  "language_info": {
   "codemirror_mode": {
    "name": "ipython",
    "version": 3
   },
   "file_extension": ".py",
   "mimetype": "text/x-python",
   "name": "python",
   "nbconvert_exporter": "python",
   "pygments_lexer": "ipython3",
   "version": "3.6.1"
  }
 },
 "nbformat": 4,
 "nbformat_minor": 2
}
