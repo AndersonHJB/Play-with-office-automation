{
 "cells": [
  {
   "cell_type": "code",
   "execution_count": 19,
   "metadata": {
    "collapsed": true
   },
   "outputs": [],
   "source": [
    "from pdfminer.pdfparser import PDFParser,PDFDocument\n",
    "from pdfminer.pdfinterp import PDFResourceManager, PDFPageInterpreter\n",
    "from pdfminer.converter import PDFPageAggregator\n",
    "from pdfminer.layout import LTTextBoxHorizontal,LAParams\n",
    "from pdfminer.pdfinterp import PDFTextExtractionNotAllowed\n",
    "\n",
    "\n",
    "path = r'好员工证明【艾雪】-BFdwfOIw5.docx.pdf'\n",
    "\n",
    "fp = open(path, 'rb')\n",
    "praser = PDFParser(fp)\n",
    "doc = PDFDocument()\n",
    "praser.set_document(doc)\n",
    "doc.set_parser(praser)\n",
    "\n"
   ]
  },
  {
   "cell_type": "code",
   "execution_count": 20,
   "metadata": {
    "collapsed": true
   },
   "outputs": [],
   "source": [
    "doc.initialize()\n",
    "\n",
    "\n",
    "rsrcmgr = PDFResourceManager()\n",
    "laparams = LAParams()\n",
    "device = PDFPageAggregator(rsrcmgr, laparams=laparams)\n",
    "\n",
    "interpreter = PDFPageInterpreter(rsrcmgr, device)"
   ]
  },
  {
   "cell_type": "code",
   "execution_count": 21,
   "metadata": {},
   "outputs": [
    {
     "name": "stdout",
     "output_type": "stream",
     "text": [
      "好员工证明 \n",
      "\n",
      "兹证明姓名 艾雪 ，性别 男 ，从 2014 年 12 月至今在我单\n",
      "\n",
      "位/公司工作，现在 管理 部门从事 公司领导 岗位工作/担任 公司\n",
      "\n",
      "领导-艾雪 职务，工作干净利索，及时完成工作需求，公司的骨干员\n",
      "\n",
      "工。 \n",
      "\n",
      "特此证明。 \n",
      "\n",
      "证明单位： 商软冠联网络有限公司 （签章） \n",
      "\n",
      " 2019 年 12 月 19 日 \n",
      "\n",
      "1 \n",
      "\n"
     ]
    }
   ],
   "source": [
    "\n",
    "\n",
    "# 循环遍历列表，每次处理一个page的内容\n",
    "for page in doc.get_pages(): # doc.get_pages() 获取page列表\n",
    "    interpreter.process_page(page)\n",
    "    # 接受该页面的LTPage对象\n",
    "    layout = device.get_result()\n",
    "    # 这里layout是一个LTPage对象 里面存放着 这个page解析出的各种对象 一般包括LTTextBox, LTFigure, LTImage, LTTextBoxHorizontal 等等 想要获取文本就获得对象的text属性，\n",
    "    for x in layout:\n",
    "        if (isinstance(x, LTTextBoxHorizontal)):\n",
    "            results = x.get_text()\n",
    "            print(results)"
   ]
  },
  {
   "cell_type": "code",
   "execution_count": null,
   "metadata": {
    "collapsed": true
   },
   "outputs": [],
   "source": []
  }
 ],
 "metadata": {
  "kernelspec": {
   "display_name": "Python 3",
   "language": "python",
   "name": "python3"
  },
  "language_info": {
   "codemirror_mode": {
    "name": "ipython",
    "version": 3
   },
   "file_extension": ".py",
   "mimetype": "text/x-python",
   "name": "python",
   "nbconvert_exporter": "python",
   "pygments_lexer": "ipython3",
   "version": "3.6.1"
  }
 },
 "nbformat": 4,
 "nbformat_minor": 2
}
