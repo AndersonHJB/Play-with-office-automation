{
 "cells": [
  {
   "cell_type": "code",
   "execution_count": 1,
   "metadata": {},
   "outputs": [],
   "source": [
    "from pdfminer.pdfparser import PDFParser, PDFDocument\n",
    "from pdfminer.pdfinterp import PDFResourceManager, PDFPageInterpreter\n",
    "from pdfminer.converter import PDFPageAggregator\n",
    "from pdfminer.layout import LTTextBoxHorizontal,LAParams\n",
    "from pdfminer.pdfinterp import PDFTextExtractionNotAllowed\n",
    "\n",
    "pdf_path = r'好员工证明【艾雪】-BFdwfOIw5.docx.pdf'\n",
    "\n",
    "fp = open(pdf_path, 'rb')\n",
    "praser = PDFParser(fp)\n",
    "doc = PDFDocument()\n",
    "praser.set_document(doc)\n",
    "doc.set_parser(praser)"
   ]
  },
  {
   "cell_type": "code",
   "execution_count": 2,
   "metadata": {},
   "outputs": [],
   "source": [
    "doc.initialize()\n",
    "\n",
    "\n",
    "rsrcmgr = PDFResourceManager()\n",
    "laparams = LAParams()\n",
    "device = PDFPageAggregator(rsrcmgr, laparams=laparams)\n",
    "\n",
    "interpreter = PDFPageInterpreter(rsrcmgr, device)"
   ]
  },
  {
   "cell_type": "code",
   "execution_count": 3,
   "metadata": {},
   "outputs": [
    {
     "name": "stdout",
     "output_type": "stream",
     "text": [
      "好员工证明 \n",
      "\n",
      "兹证明姓名 艾雪 ，性别 男 ，从 2014 年 12 月至今在我单\n",
      "\n",
      "位/公司工作，现在 管理 部门从事 公司领导 岗位工作/担任 公司\n",
      "\n",
      "领导-艾雪 职务，工作干净利索，及时完成工作需求，公司的骨干员\n",
      "\n",
      "工。 \n",
      "\n",
      "特此证明。 \n",
      "\n",
      "证明单位： 商软冠联网络有限公司 （签章） \n",
      "\n",
      " 2019 年 12 月 19 日 \n",
      "\n",
      "1 \n",
      "\n"
     ]
    }
   ],
   "source": [
    "# 循环遍历列表，每次处理一个page的内容\n",
    "for page in doc.get_pages(): # doc.get_pages() 获取page列表\n",
    "    interpreter.process_page(page)\n",
    "    # 接受该页面的LTPage对象\n",
    "    layout = device.get_result()\n",
    "    # 这里layout是一个LTPage对象 里面存放着 这个page解析出的各种对象 一般包括LTTextBox, LTFigure, LTImage, LTTextBoxHorizontal 等等 想要获取文本就获得对象的text属性，\n",
    "    for x in layout:\n",
    "        if (isinstance(x, LTTextBoxHorizontal)):\n",
    "            results = x.get_text()\n",
    "            print(results)"
   ]
  },
  {
   "cell_type": "code",
   "execution_count": 4,
   "metadata": {},
   "outputs": [
    {
     "name": "stdout",
     "output_type": "stream",
     "text": [
      "好员工证明 \n",
      "\n",
      "兹证明姓名 艾雪 ，性别 男 ，从 2014 年 12 月至今在我单\n",
      "\n",
      "位/公司工作，现在 管理 部门从事 公司领导 岗位工作/担任 公司\n",
      "\n",
      "领导-艾雪 职务，工作干净利索，及时完成工作需求，公司的骨干员\n",
      "\n",
      "工。 \n",
      "\n",
      "特此证明。 \n",
      "\n",
      "证明单位： 商软冠联网络有限公司 （签章） \n",
      "\n",
      " 2019 年 12 月 19 日 \n",
      "\n",
      "1 \n",
      "\n"
     ]
    },
    {
     "ename": "AttributeError",
     "evalue": "'LTRect' object has no attribute 'get_text'",
     "output_type": "error",
     "traceback": [
      "\u001b[1;31m---------------------------------------------------------------------------\u001b[0m",
      "\u001b[1;31mAttributeError\u001b[0m                            Traceback (most recent call last)",
      "\u001b[1;32m<ipython-input-4-f0f108156077>\u001b[0m in \u001b[0;36m<module>\u001b[1;34m()\u001b[0m\n\u001b[0;32m      4\u001b[0m     \u001b[0mlayout\u001b[0m \u001b[1;33m=\u001b[0m \u001b[0mdevice\u001b[0m\u001b[1;33m.\u001b[0m\u001b[0mget_result\u001b[0m\u001b[1;33m(\u001b[0m\u001b[1;33m)\u001b[0m\u001b[1;33m\u001b[0m\u001b[0m\n\u001b[0;32m      5\u001b[0m     \u001b[1;32mfor\u001b[0m \u001b[0mx\u001b[0m \u001b[1;32min\u001b[0m \u001b[0mlayout\u001b[0m\u001b[1;33m:\u001b[0m\u001b[1;33m\u001b[0m\u001b[0m\n\u001b[1;32m----> 6\u001b[1;33m         \u001b[0mresults\u001b[0m \u001b[1;33m=\u001b[0m \u001b[0mx\u001b[0m\u001b[1;33m.\u001b[0m\u001b[0mget_text\u001b[0m\u001b[1;33m(\u001b[0m\u001b[1;33m)\u001b[0m\u001b[1;33m\u001b[0m\u001b[0m\n\u001b[0m\u001b[0;32m      7\u001b[0m         \u001b[0mprint\u001b[0m\u001b[1;33m(\u001b[0m\u001b[0mresults\u001b[0m\u001b[1;33m)\u001b[0m\u001b[1;33m\u001b[0m\u001b[0m\n",
      "\u001b[1;31mAttributeError\u001b[0m: 'LTRect' object has no attribute 'get_text'"
     ]
    }
   ],
   "source": [
    "# 出错示例\n",
    "for page in doc.get_pages():\n",
    "    interpreter.process_page(page)\n",
    "    layout = device.get_result()\n",
    "    for x in layout:\n",
    "        results = x.get_text()\n",
    "        print(results)"
   ]
  },
  {
   "cell_type": "code",
   "execution_count": null,
   "metadata": {
    "collapsed": true
   },
   "outputs": [],
   "source": []
  }
 ],
 "metadata": {
  "kernelspec": {
   "display_name": "Python 3",
   "language": "python",
   "name": "python3"
  },
  "language_info": {
   "codemirror_mode": {
    "name": "ipython",
    "version": 3
   },
   "file_extension": ".py",
   "mimetype": "text/x-python",
   "name": "python",
   "nbconvert_exporter": "python",
   "pygments_lexer": "ipython3",
   "version": "3.6.1"
  }
 },
 "nbformat": 4,
 "nbformat_minor": 2
}
