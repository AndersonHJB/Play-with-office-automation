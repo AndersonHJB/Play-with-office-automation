{
 "cells": [
  {
   "cell_type": "code",
   "execution_count": 1,
   "metadata": {
    "collapsed": true
   },
   "outputs": [],
   "source": [
    "import os\n",
    "from win32com import client"
   ]
  },
  {
   "cell_type": "code",
   "execution_count": 2,
   "metadata": {},
   "outputs": [],
   "source": [
    "def doc2pdf(doc_name, pdf_name):\n",
    "    try:\n",
    "        word = client.DispatchEx(\"Word.Application\")\n",
    "        if os.path.exists(pdf_name):\n",
    "            os.remove(pdf_name)\n",
    "        worddoc = word.Documents.Open(doc_name, ReadOnly=1)\n",
    "        worddoc.SaveAs(pdf_name, FileFormat=17)\n",
    "        worddoc.Close()\n",
    "        return pdf_name\n",
    "    except:\n",
    "        return 1"
   ]
  },
  {
   "cell_type": "code",
   "execution_count": 3,
   "metadata": {},
   "outputs": [
    {
     "data": {
      "text/plain": [
       "'C:\\\\Users\\\\kelly\\\\Documents\\\\【重要】课程销售\\\\【w3c学校】Python自动化办公\\\\第四章：Word自动化处理\\\\源码文件夹\\\\9.将word转换成pdf文件\\\\好员工证明【艾雪】-BFdwfOIw5.docx.pdf'"
      ]
     },
     "execution_count": 3,
     "metadata": {},
     "output_type": "execute_result"
    }
   ],
   "source": [
    "doc_name = \"好员工证明【艾雪】-BFdwfOIw5.docx\"\n",
    "pdf_name = \"好员工证明【艾雪】-BFdwfOIw5.docx.pdf\"\n",
    "current_path = os.getcwd()\n",
    "doc_name_path = os.path.join(current_path, doc_name)\n",
    "pdf_name_path = os.path.join(current_path, pdf_name)\n",
    "doc2pdf(doc_name_path, pdf_name_path)"
   ]
  },
  {
   "cell_type": "code",
   "execution_count": null,
   "metadata": {
    "collapsed": true
   },
   "outputs": [],
   "source": []
  }
 ],
 "metadata": {
  "kernelspec": {
   "display_name": "Python 3",
   "language": "python",
   "name": "python3"
  },
  "language_info": {
   "codemirror_mode": {
    "name": "ipython",
    "version": 3
   },
   "file_extension": ".py",
   "mimetype": "text/x-python",
   "name": "python",
   "nbconvert_exporter": "python",
   "pygments_lexer": "ipython3",
   "version": "3.6.1"
  }
 },
 "nbformat": 4,
 "nbformat_minor": 2
}
