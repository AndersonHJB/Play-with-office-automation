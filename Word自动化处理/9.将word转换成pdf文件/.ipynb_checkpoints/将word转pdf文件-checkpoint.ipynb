{
 "cells": [
  {
   "cell_type": "code",
   "execution_count": 1,
   "metadata": {
    "collapsed": true
   },
   "outputs": [],
   "source": [
    "import os\n",
    "from win32com import client"
   ]
  },
  {
   "cell_type": "code",
   "execution_count": null,
   "metadata": {
    "collapsed": true
   },
   "outputs": [],
   "source": [
    "def doc2pdf(doc_name, pdf_name):\n",
    "    try:\n",
    "        word = client.DispatchEx(\"Word.Application\")\n",
    "        is os.path.exists(pdf_name):\n",
    "            os.remove(pdf_name)\n",
    "        worddoc = word.Documents.Open(doc_name, ReadOnly=1)\n",
    "        worddoc.SaveAs(pdf_name, FileFormat=17)\n",
    "        owrddoc.Close()\n",
    "        return pdf_name\n",
    "    except:\n",
    "        return 1\n"
   ]
  }
 ],
 "metadata": {
  "kernelspec": {
   "display_name": "Python 3",
   "language": "python",
   "name": "python3"
  },
  "language_info": {
   "codemirror_mode": {
    "name": "ipython",
    "version": 3
   },
   "file_extension": ".py",
   "mimetype": "text/x-python",
   "name": "python",
   "nbconvert_exporter": "python",
   "pygments_lexer": "ipython3",
   "version": "3.6.1"
  }
 },
 "nbformat": 4,
 "nbformat_minor": 2
}
