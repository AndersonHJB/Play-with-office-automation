{
 "cells": [
  {
   "cell_type": "code",
   "execution_count": 1,
   "metadata": {
    "collapsed": true
   },
   "outputs": [],
   "source": [
    "import docx\n",
    "\n",
    "doc = docx.Document('好员工证明【模板】.docx')\n",
    "\n",
    "info_dict = {\n",
    "    'name':'小布',\n",
    "    'gender':'男',\n",
    "    'join-year':'2011',\n",
    "    'join-month':'06',\n",
    "    'year':'2019',\n",
    "    'month':'12',\n",
    "    'day':'13',\n",
    "    'department':'研发',\n",
    "    'job':'平台开发',\n",
    "    'job-name':'研发工程师',\n",
    "    'company':'南昌xxxxx信息技术股份有限公司',\n",
    "}"
   ]
  },
  {
   "cell_type": "code",
   "execution_count": 2,
   "metadata": {
    "collapsed": true
   },
   "outputs": [],
   "source": [
    "def udpate_docx(doc, old_str, new_str):\n",
    "\n",
    "    for para in doc.paragraphs: \n",
    "        for run in para.runs:\n",
    "            run.text = run.text.replace(old_str, new_str)\n",
    "\n",
    "    for table in doc.tables:\n",
    "        for row in table.rows:\n",
    "            for cell in row.cells:\n",
    "                cell.text = cell.text.replace(old_str, new_str)"
   ]
  },
  {
   "cell_type": "code",
   "execution_count": 3,
   "metadata": {},
   "outputs": [
    {
     "name": "stdout",
     "output_type": "stream",
     "text": [
      "name 小布\n",
      "gender 男\n",
      "join-year 2011\n",
      "join-month 06\n",
      "year 2019\n",
      "month 12\n",
      "day 13\n",
      "department 研发\n",
      "job 平台开发\n",
      "job-name 研发工程师\n",
      "company 南昌xxxxx信息技术股份有限公司\n"
     ]
    }
   ],
   "source": [
    "for k,v in info_dict.items():\n",
    "    print(k,v)\n",
    "    udpate_docx(doc, k, v)"
   ]
  },
  {
   "cell_type": "code",
   "execution_count": 4,
   "metadata": {
    "collapsed": true
   },
   "outputs": [],
   "source": [
    "doc.save(\"好员工证明【{}】.docx\".format(info_dict['name']))"
   ]
  },
  {
   "cell_type": "code",
   "execution_count": null,
   "metadata": {
    "collapsed": true
   },
   "outputs": [],
   "source": []
  }
 ],
 "metadata": {
  "kernelspec": {
   "display_name": "Python 3",
   "language": "python",
   "name": "python3"
  },
  "language_info": {
   "codemirror_mode": {
    "name": "ipython",
    "version": 3
   },
   "file_extension": ".py",
   "mimetype": "text/x-python",
   "name": "python",
   "nbconvert_exporter": "python",
   "pygments_lexer": "ipython3",
   "version": "3.6.1"
  }
 },
 "nbformat": 4,
 "nbformat_minor": 2
}
