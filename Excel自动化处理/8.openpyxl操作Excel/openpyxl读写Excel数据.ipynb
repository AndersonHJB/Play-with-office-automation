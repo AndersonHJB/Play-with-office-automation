{
 "cells": [
  {
   "cell_type": "code",
   "execution_count": 1,
   "metadata": {
    "collapsed": true
   },
   "outputs": [],
   "source": [
    "import openpyxl, random, datetime\n",
    "from dateutil.relativedelta import relativedelta"
   ]
  },
  {
   "cell_type": "code",
   "execution_count": 2,
   "metadata": {
    "collapsed": true
   },
   "outputs": [],
   "source": [
    "filename = 'xlsxwriter插入数据和折线图.xlsx'\n",
    "wb = openpyxl.load_workbook(filename)"
   ]
  },
  {
   "cell_type": "code",
   "execution_count": 3,
   "metadata": {
    "collapsed": true
   },
   "outputs": [],
   "source": [
    "sheet1 = wb['sheet1']\n",
    "sheet2 = wb.copy_worksheet(sheet1)\n",
    "sheet2.title = \"sheet2\""
   ]
  },
  {
   "cell_type": "code",
   "execution_count": 4,
   "metadata": {
    "collapsed": true
   },
   "outputs": [],
   "source": [
    "rows = sheet2.max_row"
   ]
  },
  {
   "cell_type": "code",
   "execution_count": 5,
   "metadata": {
    "collapsed": true
   },
   "outputs": [],
   "source": [
    "prev_date_str = sheet2.cell(row=rows,column=1).value\n",
    "prev_date = datetime.datetime.strptime(prev_date_str, \"%Y-%m\")"
   ]
  },
  {
   "cell_type": "code",
   "execution_count": 6,
   "metadata": {
    "collapsed": true
   },
   "outputs": [],
   "source": [
    "for i in range(1,13):\n",
    "    tmp_date = prev_date + relativedelta(months=i)\n",
    "    tmp_num1 = random.randint(1,100)\n",
    "    tmp_num2 = random.randint(1,100)\n",
    "    sheet2.append([tmp_date.strftime(\"%Y-%m\"), tmp_num1, tmp_num2])"
   ]
  },
  {
   "cell_type": "code",
   "execution_count": 7,
   "metadata": {
    "collapsed": true
   },
   "outputs": [],
   "source": [
    "from openpyxl.chart import Series,LineChart, Reference\n",
    "chart = LineChart()  #图表对象\n",
    "rows = sheet2.max_row\n",
    "\n",
    "data1 = Reference(sheet2, min_col=2, min_row=1, max_col=2, max_row=rows) #涉及数据\n",
    "title1 = sheet2.cell(row=1,column=2).value\n",
    "seriesObj1 = Series(data1, title=title1)  #创建series对象\n",
    "\n",
    "data2 = Reference(sheet2, min_col=3, min_row=1, max_col=3, max_row=rows) #涉及数据\n",
    "title2 = sheet2.cell(row=1,column=3).value\n",
    "seriesObj2 = Series(data2, title=title2)  #创建series对象\n",
    "\n",
    "chart.append(seriesObj1)  #添加到chart中\n",
    "chart.append(seriesObj2)  #添加到chart中\n",
    "\n",
    "sheet2.add_chart(chart, \"E3\") #将图表添加到 sheet中"
   ]
  },
  {
   "cell_type": "code",
   "execution_count": 8,
   "metadata": {
    "collapsed": true
   },
   "outputs": [],
   "source": [
    "wb.save('poenpyxl插入数据和折线图[copy xlsxwriter].xlsx')"
   ]
  },
  {
   "cell_type": "code",
   "execution_count": null,
   "metadata": {
    "collapsed": true
   },
   "outputs": [],
   "source": []
  }
 ],
 "metadata": {
  "kernelspec": {
   "display_name": "Python 3",
   "language": "python",
   "name": "python3"
  },
  "language_info": {
   "codemirror_mode": {
    "name": "ipython",
    "version": 3
   },
   "file_extension": ".py",
   "mimetype": "text/x-python",
   "name": "python",
   "nbconvert_exporter": "python",
   "pygments_lexer": "ipython3",
   "version": "3.6.1"
  }
 },
 "nbformat": 4,
 "nbformat_minor": 2
}
