{
 "cells": [
  {
   "cell_type": "code",
   "execution_count": 4,
   "metadata": {
    "collapsed": true
   },
   "outputs": [],
   "source": [
    "import xlwt\n",
    "import faker\n",
    "import random\n",
    "import datetime\n"
   ]
  },
  {
   "cell_type": "code",
   "execution_count": 5,
   "metadata": {
    "collapsed": true
   },
   "outputs": [],
   "source": [
    "def create_excel_file(filename,department):\n",
    "    wb = xlwt.Workbook(filename)\n",
    "    sheet = wb.add_sheet('sheet1')\n",
    "    fake = faker.Faker(\"zh_CN\")\n",
    "    head_data = ['部门','姓名','工号','薪资（元）','迟到次数（次）','奖金（元）','实发工资']\n",
    "    for head in head_data:\n",
    "        sheet.write(0,head_data.index(head),head)\n",
    "    for i in range(1, random.randint(5,100)):\n",
    "        sheet.write(i,0, department)\n",
    "        sheet.write(i,1, fake.last_name()+fake.first_name())\n",
    "        sheet.write(i,2, \"G{}\".format(random.randint(1,1000)))\n",
    "        sheet.write(i,3, random.randint(4000,16000))\n",
    "        sheet.write(i,4, random.choice([0,0,0,1,2,3,4]))\n",
    "        sheet.write(i,5, random.choice([200,300,400,500,600,700,800,900]))\n",
    "    wb.save(filename)"
   ]
  },
  {
   "cell_type": "code",
   "execution_count": 6,
   "metadata": {},
   "outputs": [
    {
     "name": "stdout",
     "output_type": "stream",
     "text": [
      "2019-12-技术部.xls  新建完成\n",
      "2019-12-推广部.xls  新建完成\n",
      "2019-12-客服部.xls  新建完成\n",
      "2019-12-行政部.xls  新建完成\n",
      "2019-12-财务部.xls  新建完成\n"
     ]
    }
   ],
   "source": [
    "department_name = ['技术部','推广部','客服部','行政部','财务部']\n",
    "for dep in department_name:\n",
    "    xls_name = \"{}-{}.xls\".format(datetime.datetime.now().strftime(\"%Y-%m\"), dep)\n",
    "    create_excel_file(xls_name,dep)\n",
    "    print(xls_name,\" 新建完成\")"
   ]
  },
  {
   "cell_type": "code",
   "execution_count": null,
   "metadata": {
    "collapsed": true
   },
   "outputs": [],
   "source": []
  }
 ],
 "metadata": {
  "kernelspec": {
   "display_name": "Python 3",
   "language": "python",
   "name": "python3"
  },
  "language_info": {
   "codemirror_mode": {
    "name": "ipython",
    "version": 3
   },
   "file_extension": ".py",
   "mimetype": "text/x-python",
   "name": "python",
   "nbconvert_exporter": "python",
   "pygments_lexer": "ipython3",
   "version": "3.6.1"
  }
 },
 "nbformat": 4,
 "nbformat_minor": 2
}
