{
 "cells": [
  {
   "cell_type": "code",
   "execution_count": 1,
   "metadata": {
    "collapsed": true
   },
   "outputs": [],
   "source": [
    "import xlsxwriter, random # pip install xlsxwriter\n",
    "\n",
    "wb = xlsxwriter.Workbook('xlsxwriter插入数据.xlsx')"
   ]
  },
  {
   "cell_type": "code",
   "execution_count": 2,
   "metadata": {
    "collapsed": true
   },
   "outputs": [],
   "source": [
    "worksheet1 = wb.add_worksheet('代码操作记录')"
   ]
  },
  {
   "cell_type": "code",
   "execution_count": 3,
   "metadata": {},
   "outputs": [
    {
     "data": {
      "text/plain": [
       "0"
      ]
     },
     "execution_count": 3,
     "metadata": {},
     "output_type": "execute_result"
    }
   ],
   "source": [
    "headings = ['日期','数据1','数据2']\n",
    "worksheet1.write_row('A1',headings)"
   ]
  },
  {
   "cell_type": "code",
   "execution_count": 4,
   "metadata": {},
   "outputs": [
    {
     "data": {
      "text/plain": [
       "0"
      ]
     },
     "execution_count": 4,
     "metadata": {},
     "output_type": "execute_result"
    }
   ],
   "source": [
    "data = [\n",
    "    ['2019-1','2019-2','2019-3','2019-4','2019-5','2019-6','2019-7','2019-8','2019-9','2019-10','2019-11','2019-12',],\n",
    "    [random.randint(1,100) for i in range(12)],\n",
    "    [random.randint(1,100) for i in range(12)],\n",
    "] \n",
    "worksheet1.write_column('A2',data[0])\n",
    "worksheet1.write_column('B2',data[1])\n",
    "worksheet1.write_column('C2',data[2])"
   ]
  },
  {
   "cell_type": "code",
   "execution_count": 5,
   "metadata": {
    "collapsed": true
   },
   "outputs": [],
   "source": [
    "wb.close()"
   ]
  },
  {
   "cell_type": "code",
   "execution_count": 6,
   "metadata": {
    "collapsed": true
   },
   "outputs": [],
   "source": [
    "import xlsxwriter,    random                     #导入模块\n",
    "\n",
    "wb = xlsxwriter.Workbook('xlsxwriter插入数据和折线图.xlsx')   #创建新的excel\n",
    "\n",
    "worksheet = wb.add_worksheet('sheet1')        #创建新的sheet\n",
    "\n",
    "headings = ['日期','数据1','数据2']             #创建表头\n",
    "\n",
    "data = [\n",
    "    ['2019-1','2019-2','2019-3','2019-4','2019-5','2019-6','2019-7','2019-8','2019-9','2019-10','2019-11','2019-12',],\n",
    "    [random.randint(1,100) for i in range(12)],\n",
    "    [random.randint(1,100) for i in range(12)],\n",
    "] \n",
    "\n",
    "worksheet.write_row('A1',headings)\n",
    "\n",
    "worksheet.write_column('A2',data[0])\n",
    "worksheet.write_column('B2',data[1])\n",
    "worksheet.write_column('C2',data[2])                    #将数据插入到表格中\n",
    "\n",
    "chart_col = wb.add_chart({'type':'line'})        #新建图表格式 line为折线图\n",
    "chart_col.add_series(                                   #给图表设置格式，填充内容\n",
    "    {\n",
    "        'name':'=sheet1!$B$1',\n",
    "        'categories':'=sheet1!$A$2:$A$7',\n",
    "        'values':   '=sheet1!$B$2:$B$7',\n",
    "        'line': {'color': 'blue'},\n",
    "    }\n",
    ")\n",
    "chart_col.add_series(                                   #给图表设置格式，填充内容\n",
    "    {\n",
    "        'name':'=sheet1!$C$1',\n",
    "        'categories':'=sheet1!$A$2:$A$7',\n",
    "        'values':   '=sheet1!$C$2:$C$7',\n",
    "        'line': {'color': 'green'},\n",
    "    }\n",
    ")\n",
    "\n",
    "chart_col.set_title({'name':'虚假数据折线图'})\n",
    "chart_col.set_x_axis({'name':\"横坐标\"})\n",
    "chart_col.set_y_axis({'name':'纵坐标'})          #设置图表表头及坐标轴\n",
    "\n",
    "\n",
    "worksheet.insert_chart('D2',chart_col,{'x_offset':25,'y_offset':10})   #放置图表位置\n",
    "\n",
    "wb.close()"
   ]
  },
  {
   "cell_type": "code",
   "execution_count": null,
   "metadata": {
    "collapsed": true
   },
   "outputs": [],
   "source": []
  },
  {
   "cell_type": "code",
   "execution_count": null,
   "metadata": {
    "collapsed": true
   },
   "outputs": [],
   "source": []
  }
 ],
 "metadata": {
  "kernelspec": {
   "display_name": "Python 3",
   "language": "python",
   "name": "python3"
  },
  "language_info": {
   "codemirror_mode": {
    "name": "ipython",
    "version": 3
   },
   "file_extension": ".py",
   "mimetype": "text/x-python",
   "name": "python",
   "nbconvert_exporter": "python",
   "pygments_lexer": "ipython3",
   "version": "3.6.1"
  }
 },
 "nbformat": 4,
 "nbformat_minor": 2
}
