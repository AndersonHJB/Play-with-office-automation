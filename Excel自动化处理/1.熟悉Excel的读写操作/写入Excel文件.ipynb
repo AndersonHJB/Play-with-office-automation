{
 "cells": [
  {
   "cell_type": "code",
   "execution_count": 1,
   "metadata": {
    "collapsed": true
   },
   "outputs": [],
   "source": [
    "import xlwt # pip install xlwt\n",
    "wb = xlwt.Workbook() # Excel的文件对象"
   ]
  },
  {
   "cell_type": "code",
   "execution_count": 2,
   "metadata": {
    "collapsed": true
   },
   "outputs": [],
   "source": [
    "sheet = wb.add_sheet('第一个sheet')"
   ]
  },
  {
   "cell_type": "code",
   "execution_count": 3,
   "metadata": {
    "collapsed": true
   },
   "outputs": [],
   "source": [
    "head_data = ['姓名','地址','手机号','城市']\n",
    "for head in head_data:\n",
    "    sheet.write(0,head_data.index(head),head)"
   ]
  },
  {
   "cell_type": "code",
   "execution_count": 4,
   "metadata": {
    "collapsed": true
   },
   "outputs": [],
   "source": [
    "import faker\n",
    "fake = faker.Faker()\n",
    "for i in range(1,100):\n",
    "    sheet.write(i,0,fake.first_name() + ' ' + fake.last_name())\n",
    "    sheet.write(i,1,fake.address())\n",
    "    sheet.write(i,2,fake.phone_number())\n",
    "    sheet.write(i,3,fake.city())"
   ]
  },
  {
   "cell_type": "code",
   "execution_count": 5,
   "metadata": {
    "collapsed": true
   },
   "outputs": [],
   "source": [
    "wb.save('虚假用户数据-two.xls')"
   ]
  },
  {
   "cell_type": "code",
   "execution_count": null,
   "metadata": {
    "collapsed": true
   },
   "outputs": [],
   "source": []
  }
 ],
 "metadata": {
  "kernelspec": {
   "display_name": "Python 3",
   "language": "python",
   "name": "python3"
  },
  "language_info": {
   "codemirror_mode": {
    "name": "ipython",
    "version": 3
   },
   "file_extension": ".py",
   "mimetype": "text/x-python",
   "name": "python",
   "nbconvert_exporter": "python",
   "pygments_lexer": "ipython3",
   "version": "3.6.1"
  }
 },
 "nbformat": 4,
 "nbformat_minor": 2
}
